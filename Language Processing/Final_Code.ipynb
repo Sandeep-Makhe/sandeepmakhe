{
 "cells": [
  {
   "cell_type": "markdown",
   "metadata": {},
   "source": [
    "#### Importing Library "
   ]
  },
  {
   "cell_type": "code",
   "execution_count": 1,
   "metadata": {},
   "outputs": [
    {
     "name": "stdout",
     "output_type": "stream",
     "text": [
      "Wall time: 13.2 s\n"
     ]
    },
    {
     "name": "stderr",
     "output_type": "stream",
     "text": [
      "[nltk_data] Downloading package stopwords to\n",
      "[nltk_data]     C:\\Users\\JPG\\AppData\\Roaming\\nltk_data...\n",
      "[nltk_data]   Package stopwords is already up-to-date!\n"
     ]
    },
    {
     "data": {
      "text/plain": [
       "True"
      ]
     },
     "execution_count": 1,
     "metadata": {},
     "output_type": "execute_result"
    }
   ],
   "source": [
    "%%time\n",
    "\n",
    "from nltk.corpus import stopwords \n",
    "from nltk import download \n",
    "download('stopwords')"
   ]
  },
  {
   "cell_type": "code",
   "execution_count": 2,
   "metadata": {},
   "outputs": [],
   "source": [
    "stop_words = stopwords.words('english')"
   ]
  },
  {
   "cell_type": "code",
   "execution_count": 3,
   "metadata": {},
   "outputs": [],
   "source": [
    "from pyemd import emd\n",
    "import gensim\n",
    "from gensim.models import Word2Vec\n"
   ]
  },
  {
   "cell_type": "code",
   "execution_count": 4,
   "metadata": {},
   "outputs": [],
   "source": [
    "model = gensim.models.KeyedVectors.load_word2vec_format('D:/GoogleNews-vectors-negative300.bin.gz', binary=True)  "
   ]
  },
  {
   "cell_type": "code",
   "execution_count": 5,
   "metadata": {},
   "outputs": [],
   "source": [
    "model.init_sims(replace=True)"
   ]
  },
  {
   "cell_type": "code",
   "execution_count": 6,
   "metadata": {},
   "outputs": [],
   "source": [
    "import tensorflow as tf\n",
    "import tensorflow_hub as hub\n",
    "import numpy as np\n",
    "import os, sys\n",
    "import pandas as pd \n",
    "from sklearn.metrics.pairwise import cosine_similarity\n",
    "\n",
    "import torch"
   ]
  },
  {
   "cell_type": "code",
   "execution_count": 7,
   "metadata": {},
   "outputs": [
    {
     "name": "stdout",
     "output_type": "stream",
     "text": [
      "Wall time: 31.5 s\n"
     ]
    }
   ],
   "source": [
    "%%time\n",
    "embed = hub.load(\"D:/USE\")"
   ]
  },
  {
   "cell_type": "code",
   "execution_count": 8,
   "metadata": {},
   "outputs": [],
   "source": [
    "def cos_sim(input_vectors):\n",
    "    similarity = cosine_similarity(input_vectors)\n",
    "    return similarity"
   ]
  },
  {
   "cell_type": "code",
   "execution_count": 12,
   "metadata": {},
   "outputs": [],
   "source": [
    "negative = [\"not\" , \"without\",\"against\",\"bad\",\"useless\",\"no\",\"dislike\",\"hate\"]\n",
    "\n",
    "def semantic_similarity(actual_answer , given_answer) :\n",
    "    actual = actual_answer.lower().split(\".\")\n",
    "    given = given_answer.lower().split(\".\")\n",
    "    \n",
    "    \n",
    "    \n",
    "    sim_checker = actual \n",
    "    \n",
    "    not_matching_semantics = list()\n",
    "    \n",
    "    semantic_1 = 0   # Actual_answer\n",
    "    semantic_2 = 0   # Given_answee\n",
    "    \n",
    "    actual_embed_list = list()\n",
    "    given_embed_list = list()\n",
    "    \n",
    "    \n",
    "    \n",
    "    for z in range(len(actual)) :\n",
    "        list_actual = list()  \n",
    "        list_actual.append(actual[z])\n",
    "        actual_embed_list.append(embed(list_actual))\n",
    "        #print(actual_embed_list[z].shape)\n",
    "    \n",
    "    for z in range(len(given)) :\n",
    "        \n",
    "        semantic_1 = 0\n",
    "        semantic_2 = 0 \n",
    "        list_given = list()\n",
    "        list_given.append(given[z])\n",
    "        embed_z = embed(list_given)\n",
    "        \n",
    "        \n",
    "        sim_check = sim_checker.copy() \n",
    "        sim_check.append(given[z]) \n",
    "        \n",
    "        sen_em = embed(sim_check)\n",
    "        \n",
    "        similarity_matrix = cos_sim(np.array(sen_em))\n",
    "        \n",
    "        similarity_matrix_df = pd.DataFrame(similarity_matrix) \n",
    "        \n",
    "        cos_list = list(similarity_matrix_df[len(similarity_matrix_df) - 1]) \n",
    "        cos_list = cos_list[:len(cos_list)-1]\n",
    "        #print(cos_list)\n",
    "        \n",
    "        index = cos_list.index(max(cos_list))\n",
    "        \n",
    "        actual_check = actual[index]\n",
    "        actual_check = actual_check.split()\n",
    "        for i in range(len(actual_check) - 1) :\n",
    "            if(actual_check[i] in negative and actual_check[i+1] in negative) :\n",
    "                semantic_1 += 1 \n",
    "            elif(actual_check[i] in negative and actual_check[i+1] not in negative) :\n",
    "                semantic_1 -= 1 \n",
    "                \n",
    "        \n",
    "        \n",
    "\n",
    "\n",
    "        answer_given = given[z].split()\n",
    "        for i in range(len(answer_given) - 1) :\n",
    "            if(answer_given[i] in negative and answer_given[i+1] in negative) :\n",
    "                semantic_2 += 1 \n",
    "            elif(answer_given[i] in negative and answer_given[i+1] not in negative) :\n",
    "                semantic_2 -= 1 \n",
    "\n",
    "                \n",
    "        \n",
    "        if(semantic_1 == 0 and semantic_2 == 0) :\n",
    "            \n",
    "            \"\"\"\n",
    "            Well and good\n",
    "            \"\"\"\n",
    "        elif(semantic_1 < 0  and semantic_2 >= 0) :\n",
    "            not_matching_semantics.append(list([actual[index],given[z]]))\n",
    "            embed_z*=(-1)\n",
    "            \n",
    "        \n",
    "        elif(semantic_1 >= 0 and semantic_2 < 0 ) :\n",
    "            not_matching_semantics.append(list([actual[index],given[z]]))\n",
    "            embed_z*=(-1)\n",
    "            \n",
    "        \n",
    "        \n",
    "        #print(semantic_1,semantic_2,actual[index],given[z])\n",
    "        \n",
    "        \n",
    "        given_embed_list.append(embed_z)\n",
    "        \n",
    "        \n",
    "        \n",
    "    \n",
    "    #print(np.array(actual_embed_list).shape)\n",
    "    actual_embed = actual_embed_list[0] \n",
    "    #print(actual_embed.shape) \n",
    "    \n",
    "    for i in range(len(actual_embed_list)-1) :\n",
    "        #print(actual_embed_list[i+1].shape)\n",
    "        actual_embed += actual_embed_list[i+1]\n",
    "        \n",
    "    given_embed = given_embed_list[0] \n",
    "    for i in range(len(given_embed_list) - 1) :\n",
    "        given_embed += given_embed_list[i+1] \n",
    "        \n",
    "        \n",
    "    \n",
    "            \n",
    "    actual_embed = np.array(actual_embed).reshape(512)\n",
    "    given_embed = np.array(given_embed).reshape(512) \n",
    "    sem_checker = list([actual_embed,given_embed]) \n",
    "    answer = pd.DataFrame(cos_sim(sem_checker))\n",
    "            \n",
    "        \n",
    "    return not_matching_semantics , answer[0][1]"
   ]
  },
  {
   "cell_type": "code",
   "execution_count": 13,
   "metadata": {},
   "outputs": [],
   "source": [
    "a = \"Jay is a undergrad student . He is studying CSE and is not interested in ED . He is from VNIT . He loves Ice cream\"  \n",
    "b = \"Jay is a postgrad engineer .  He is doing his PG in CSE and ED . He is not from VNIT . He do not hate ice cream\" "
   ]
  },
  {
   "cell_type": "code",
   "execution_count": 14,
   "metadata": {},
   "outputs": [],
   "source": [
    "not_matching , similarity = semantic_similarity(a,b)"
   ]
  },
  {
   "cell_type": "code",
   "execution_count": 15,
   "metadata": {},
   "outputs": [],
   "source": [
    "def WMD(actual_answer , given_answer,model) :\n",
    "    \n",
    "    actual_answer = actual_answer.lower().split()\n",
    "    actual_answer = [w for w in actual_answer if w not in stop_words]\n",
    "    \n",
    "    \n",
    "    given_answer = given_answer.lower().split()\n",
    "    given_answer = [w for w in given_answer if w not in stop_words]\n",
    "    \n",
    "    \n",
    "    return model.wmdistance(given_answer,actual_answer)\n",
    "    \n",
    "    "
   ]
  },
  {
   "cell_type": "code",
   "execution_count": 16,
   "metadata": {},
   "outputs": [],
   "source": [
    "distance = WMD(a,b,model)"
   ]
  },
  {
   "cell_type": "code",
   "execution_count": 17,
   "metadata": {},
   "outputs": [
    {
     "data": {
      "text/plain": [
       "0.5904527414524166"
      ]
     },
     "execution_count": 17,
     "metadata": {},
     "output_type": "execute_result"
    }
   ],
   "source": [
    "distance"
   ]
  },
  {
   "cell_type": "code",
   "execution_count": 18,
   "metadata": {},
   "outputs": [],
   "source": [
    "def score(given_answer , actual_answer,model) :\n",
    "    \n",
    "    given_answer1 = given_answer\n",
    "    actual_answer1 = actual_answer\n",
    "    \n",
    "    given_answer2 = given_answer\n",
    "    actual_answer2 = actual_answer\n",
    "\n",
    "    not_macthing , similarity = semantic_similarity(actual_answer1,given_answer1)\n",
    "    distance = WMD(actual_answer2,given_answer2,model)\n",
    "    \n",
    "\n",
    "    \n",
    "    if(similarity > 0) :\n",
    "        if(distance == 0) :\n",
    "            return 1 \n",
    "        return similarity/distance\n",
    "    else :\n",
    "        return -1 "
   ]
  },
  {
   "cell_type": "code",
   "execution_count": 19,
   "metadata": {},
   "outputs": [
    {
     "data": {
      "text/plain": [
       "-1"
      ]
     },
     "execution_count": 19,
     "metadata": {},
     "output_type": "execute_result"
    }
   ],
   "source": [
    "score(a,b,model)"
   ]
  },
  {
   "cell_type": "code",
   "execution_count": 20,
   "metadata": {},
   "outputs": [],
   "source": [
    "import wikipedia "
   ]
  },
  {
   "cell_type": "code",
   "execution_count": 21,
   "metadata": {},
   "outputs": [],
   "source": [
    "page1 = wikipedia.page(\"Republic of India\")\n",
    "a = page1.summary"
   ]
  },
  {
   "cell_type": "code",
   "execution_count": 22,
   "metadata": {},
   "outputs": [],
   "source": [
    "page2 = wikipedia.page(\"Demographics of India\")\n",
    "b = page2.summary"
   ]
  },
  {
   "cell_type": "code",
   "execution_count": 23,
   "metadata": {},
   "outputs": [],
   "source": [
    "page3 = wikipedia.page(\"Demographics of United States\")\n",
    "c = page3.summary"
   ]
  },
  {
   "cell_type": "code",
   "execution_count": null,
   "metadata": {},
   "outputs": [],
   "source": []
  },
  {
   "cell_type": "code",
   "execution_count": null,
   "metadata": {},
   "outputs": [],
   "source": [
    "len(a) , len(b), len(c)"
   ]
  },
  {
   "cell_type": "code",
   "execution_count": 24,
   "metadata": {},
   "outputs": [
    {
     "data": {
      "text/plain": [
       "0.5976578001860909"
      ]
     },
     "execution_count": 24,
     "metadata": {},
     "output_type": "execute_result"
    }
   ],
   "source": [
    "score(a,b,model)"
   ]
  },
  {
   "cell_type": "code",
   "execution_count": 25,
   "metadata": {},
   "outputs": [
    {
     "data": {
      "text/plain": [
       "0.2617015521585175"
      ]
     },
     "execution_count": 25,
     "metadata": {},
     "output_type": "execute_result"
    }
   ],
   "source": [
    "score(a,c,model)"
   ]
  },
  {
   "cell_type": "code",
   "execution_count": 26,
   "metadata": {},
   "outputs": [
    {
     "data": {
      "text/plain": [
       "0.6956970576797735"
      ]
     },
     "execution_count": 26,
     "metadata": {},
     "output_type": "execute_result"
    }
   ],
   "source": [
    "score(b,c,model)"
   ]
  },
  {
   "cell_type": "code",
   "execution_count": null,
   "metadata": {},
   "outputs": [],
   "source": []
  },
  {
   "cell_type": "code",
   "execution_count": null,
   "metadata": {},
   "outputs": [],
   "source": []
  },
  {
   "cell_type": "code",
   "execution_count": null,
   "metadata": {},
   "outputs": [],
   "source": []
  }
 ],
 "metadata": {
  "kernelspec": {
   "display_name": "Python 3",
   "language": "python",
   "name": "python3"
  },
  "language_info": {
   "codemirror_mode": {
    "name": "ipython",
    "version": 3
   },
   "file_extension": ".py",
   "mimetype": "text/x-python",
   "name": "python",
   "nbconvert_exporter": "python",
   "pygments_lexer": "ipython3",
   "version": "3.8.3"
  }
 },
 "nbformat": 4,
 "nbformat_minor": 4
}
